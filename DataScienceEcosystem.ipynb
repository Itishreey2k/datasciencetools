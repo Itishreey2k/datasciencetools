{
 "cells": [
  {
   "cell_type": "markdown",
   "id": "b8685880",
   "metadata": {},
   "source": [
    "# Data Science Tools and Ecosystem"
   ]
  },
  {
   "cell_type": "markdown",
   "id": "9ea7f5c0",
   "metadata": {},
   "source": [
    "## In this notebook, Data Science Tools and Ecosystem are summarized"
   ]
  },
  {
   "cell_type": "markdown",
   "id": "04b0ca4a",
   "metadata": {},
   "source": [
    "### Some of the popular languages that data scientists use are:\n",
    "      1.Python\n",
    "      2.R\n",
    "      3.SQl"
   ]
  },
  {
   "cell_type": "markdown",
   "id": "86372626",
   "metadata": {},
   "source": [
    "### Some of the commonly used libraries used by Data Scientists include:\n",
    "     1.ggplot\n",
    "     2.pandas\n",
    "     3.Matplotlib\n",
    "    "
   ]
  },
  {
   "cell_type": "markdown",
   "id": "109fee6f",
   "metadata": {},
   "source": [
    "\n",
    "| Data Science Tools |\n",
    "|--------------------|\n",
    "| Anaconda |\n",
    "| TensorFlow |\n",
    "| Jupyter Notebook |\n",
    " "
   ]
  },
  {
   "cell_type": "markdown",
   "id": "2fbe1f57",
   "metadata": {},
   "source": [
    "### Below are a few examples of evaluating arithmetic expressions in Python\n",
    "    Addition 5 + 7\n",
    "    Subtraction 11-3\n",
    "    Multiplication 3*9"
   ]
  },
  {
   "cell_type": "code",
   "execution_count": 9,
   "id": "7557fb46",
   "metadata": {},
   "outputs": [
    {
     "data": {
      "text/plain": [
       "17"
      ]
     },
     "execution_count": 9,
     "metadata": {},
     "output_type": "execute_result"
    }
   ],
   "source": [
    "# This is a simple arithmatic expression to multiply then add integers\n",
    "(3*4) + 5 "
   ]
  },
  {
   "cell_type": "code",
   "execution_count": 10,
   "id": "43d7c766",
   "metadata": {},
   "outputs": [
    {
     "data": {
      "text/plain": [
       "3.3333333333333335"
      ]
     },
     "execution_count": 10,
     "metadata": {},
     "output_type": "execute_result"
    }
   ],
   "source": [
    "# This will convert 200 minutes to hours by dividing by 60\n",
    "200/60 "
   ]
  },
  {
   "cell_type": "markdown",
   "id": "2e2febe6",
   "metadata": {},
   "source": [
    "**Objectives:**\n",
    "  - List of popular data science tools\n",
    "  - List of popular data science languages\n",
    "  - Commonly used libraries by data scientists\n",
    "  - Examples of evaluatig mathmatical expressions\n",
    "  - Creation of table in markdown cell"
   ]
  },
  {
   "cell_type": "markdown",
   "id": "88b4a08f",
   "metadata": {},
   "source": [
    "## Author\n",
    "    Itishree"
   ]
  }
 ],
 "metadata": {
  "kernelspec": {
   "display_name": "Python 3 (ipykernel)",
   "language": "python",
   "name": "python3"
  },
  "language_info": {
   "codemirror_mode": {
    "name": "ipython",
    "version": 3
   },
   "file_extension": ".py",
   "mimetype": "text/x-python",
   "name": "python",
   "nbconvert_exporter": "python",
   "pygments_lexer": "ipython3",
   "version": "3.11.4"
  }
 },
 "nbformat": 4,
 "nbformat_minor": 5
}
